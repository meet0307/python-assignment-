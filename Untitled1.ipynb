{
 "cells": [
  {
   "cell_type": "code",
   "execution_count": 1,
   "id": "16c790af",
   "metadata": {},
   "outputs": [
    {
     "data": {
      "text/plain": [
       "'C:\\\\Users\\\\Admin'"
      ]
     },
     "execution_count": 1,
     "metadata": {},
     "output_type": "execute_result"
    }
   ],
   "source": [
    "pwd"
   ]
  },
  {
   "cell_type": "code",
   "execution_count": 1,
   "id": "680ae60b",
   "metadata": {},
   "outputs": [
    {
     "name": "stdout",
     "output_type": "stream",
     "text": [
      "input a number: 2\n",
      "sumof first 2 positive integer: 3.0\n"
     ]
    }
   ],
   "source": [
    "#Q1 sum first n posituve integer \n",
    "\n",
    "n = int(input(\"input a number: \"))\n",
    "sum_num = (n * (n + 1)) / 2\n",
    "print(\"sumof first\", n , \"positive integer:\",sum_num)"
   ]
  },
  {
   "cell_type": "code",
   "execution_count": 2,
   "id": "5be30b71",
   "metadata": {},
   "outputs": [
    {
     "name": "stdout",
     "output_type": "stream",
     "text": [
      "number of occurrence of p: 4\n"
     ]
    }
   ],
   "source": [
    "#Q2 program to find occurrence of substing in string\n",
    "\n",
    "message = \"python is popular programming language\"\n",
    "print(\"number of occurrence of p:\",message.count(\"p\"))"
   ]
  },
  {
   "cell_type": "code",
   "execution_count": 4,
   "id": "9643e27c",
   "metadata": {},
   "outputs": [
    {
     "name": "stdout",
     "output_type": "stream",
     "text": [
      "{'the': 2, 'quick': 1, 'brown': 1, 'fox': 1, 'jumps': 1, 'over': 1, 'lazy': 1, 'dog.': 1}\n"
     ]
    }
   ],
   "source": [
    "#Q3 programe to find occurrence of each word in sentence\n",
    "\n",
    "def word_count(str):\n",
    "    counts = dict()\n",
    "    words = str.split()\n",
    "\n",
    "    for word in words:\n",
    "        if word in counts:\n",
    "            counts[word] += 1\n",
    "        else:\n",
    "            counts[word] = 1\n",
    "\n",
    "    return counts\n",
    "\n",
    "print( word_count('the quick brown fox jumps over the lazy dog.'))\n"
   ]
  },
  {
   "cell_type": "code",
   "execution_count": 9,
   "id": "8a00080c",
   "metadata": {},
   "outputs": [
    {
     "name": "stdout",
     "output_type": "stream",
     "text": [
      "xyc abz\n"
     ]
    }
   ],
   "source": [
    "#Q.04 \n",
    "\n",
    "def chars_mix_up(a, b):\n",
    "  new_a = b[:2] + a[2:]\n",
    "  new_b = a[:2] + b[2:]\n",
    "\n",
    "  return new_a + ' ' + new_b\n",
    "print(chars_mix_up('abc', 'xyz'))\n"
   ]
  },
  {
   "cell_type": "code",
   "execution_count": 10,
   "id": "7953ac6e",
   "metadata": {},
   "outputs": [
    {
     "name": "stdout",
     "output_type": "stream",
     "text": [
      "ab\n",
      "abcing\n",
      "stringly\n"
     ]
    }
   ],
   "source": [
    "#Q.05\n",
    "\n",
    "def add_string(str1):\n",
    "  length = len(str1)\n",
    "\n",
    "  if length > 2:\n",
    "    if str1[-3:] == 'ing':\n",
    "      str1 += 'ly'\n",
    "    else:\n",
    "      str1 += 'ing'\n",
    "\n",
    "  return str1\n",
    "print(add_string('ab'))\n",
    "print(add_string('abc'))\n",
    "print(add_string('string'))"
   ]
  },
  {
   "cell_type": "code",
   "execution_count": 11,
   "id": "c7a43595",
   "metadata": {},
   "outputs": [
    {
     "name": "stdout",
     "output_type": "stream",
     "text": [
      "The lyrics is good!\n",
      "The lyrics is poor!\n"
     ]
    }
   ],
   "source": [
    "#Q.06\n",
    "\n",
    "def not_poor(str1):\n",
    "  snot = str1.find('not')\n",
    "  spoor = str1.find('poor')\n",
    "  \n",
    "\n",
    "  if spoor > snot and snot>0 and spoor>0:\n",
    "    str1 = str1.replace(str1[snot:(spoor+4)], 'good')\n",
    "    return str1\n",
    "  else:\n",
    "    return str1\n",
    "print(not_poor('The lyrics is not that poor!'))\n",
    "print(not_poor('The lyrics is poor!'))\n"
   ]
  },
  {
   "cell_type": "code",
   "execution_count": 12,
   "id": "90008197",
   "metadata": {},
   "outputs": [
    {
     "name": "stdout",
     "output_type": "stream",
     "text": [
      "The gcd of 60 and 48 is : 12\n"
     ]
    }
   ],
   "source": [
    "#Q.07\n",
    "\n",
    "import math\n",
    " \n",
    "print(\"The gcd of 60 and 48 is : \", end=\"\")\n",
    "print(math.gcd(60, 48))"
   ]
  },
  {
   "cell_type": "code",
   "execution_count": 13,
   "id": "d4cd14cd",
   "metadata": {},
   "outputs": [
    {
     "name": "stdout",
     "output_type": "stream",
     "text": [
      "The original list : [5, 6, 3, 8, 2, 1, 7, 1]\n",
      "Is sublist present in list ? : True\n"
     ]
    }
   ],
   "source": [
    "#Q.08\n",
    "\n",
    "test_list = [5, 6, 3, 8, 2, 1, 7, 1]\n",
    " \n",
    "print(\"The original list : \" + str(test_list))\n",
    " \n",
    "sublist = [8, 2, 1]\n",
    " \n",
    "res = False\n",
    "for idx in range(len(test_list) - len(sublist) + 1):\n",
    "    if test_list[idx: idx + len(sublist)] == sublist:\n",
    "        res = True\n",
    "        break\n",
    " \n",
    "print(\"Is sublist present in list ? : \" + str(res))"
   ]
  },
  {
   "cell_type": "code",
   "execution_count": null,
   "id": "321df515",
   "metadata": {},
   "outputs": [],
   "source": [
    "#Q.09 find smallest number from list.\n",
    "\n",
    "list1 = [10,20,4,45,99]\n",
    "list1.sort()\n",
    "print(\"smallest element is:\",list1[0])"
   ]
  },
  {
   "cell_type": "code",
   "execution_count": null,
   "id": "95bc8194",
   "metadata": {},
   "outputs": [],
   "source": [
    "#Q.10 to get unique value from list \n",
    "\n",
    "def unique(list1):\n",
    " \n",
    "   \n",
    "    unique_list = []\n",
    " \n",
    "   \n",
    "    for x in list1:\n",
    "       \n",
    "        if x not in unique_list:\n",
    "            unique_list.append(x)\n",
    "\n",
    "    for x in unique_list:\n",
    "        print x,\n",
    " \n",
    " \n",
    "\n",
    "list1 = [10, 20, 10, 30, 40, 40]\n",
    "print(\"the unique values from 1st list is\")\n",
    "unique(list1)\n",
    " \n",
    " \n",
    "list2 = [1, 2, 1, 1, 3, 4, 3, 3, 5]\n",
    "print(\"\\nthe unique values from 2nd list is\")\n",
    "unique(list2)"
   ]
  },
  {
   "cell_type": "code",
   "execution_count": 1,
   "id": "02de0b34",
   "metadata": {},
   "outputs": [
    {
     "name": "stdout",
     "output_type": "stream",
     "text": [
      "[(1, 3, 8), (2, 4, 9)]\n"
     ]
    }
   ],
   "source": [
    "#Q.11\n",
    "\n",
    "l=[(1,2),(3,4),(8,9)]\n",
    "print(list(zip(*l)))"
   ]
  },
  {
   "cell_type": "code",
   "execution_count": 2,
   "id": "14106a17",
   "metadata": {},
   "outputs": [
    {
     "name": "stdout",
     "output_type": "stream",
     "text": [
      "{'aman': 1, 'meet': 2, 'mansi': 3, 'harsh': 4, 'bhakti': 5}\n"
     ]
    }
   ],
   "source": [
    "#Q.12\n",
    "\n",
    "lst=[('aman',1),('meet',2),('mansi',3),('harsh',4),('bhakti',5)]\n",
    "result=dict(lst)\n",
    "print(result)"
   ]
  },
  {
   "cell_type": "code",
   "execution_count": 3,
   "id": "0dbd5b77",
   "metadata": {},
   "outputs": [
    {
     "name": "stdout",
     "output_type": "stream",
     "text": [
      "orignal dictionary: {1: 2, 3: 4, 4: 3, 2: 1, 0: 0}\n"
     ]
    },
    {
     "ename": "NameError",
     "evalue": "name 'operator' is not defined",
     "output_type": "error",
     "traceback": [
      "\u001b[1;31m---------------------------------------------------------------------------\u001b[0m",
      "\u001b[1;31mNameError\u001b[0m                                 Traceback (most recent call last)",
      "Cell \u001b[1;32mIn[3], line 5\u001b[0m\n\u001b[0;32m      3\u001b[0m d\u001b[38;5;241m=\u001b[39m{\u001b[38;5;241m1\u001b[39m:\u001b[38;5;241m2\u001b[39m,\u001b[38;5;241m3\u001b[39m:\u001b[38;5;241m4\u001b[39m,\u001b[38;5;241m4\u001b[39m:\u001b[38;5;241m3\u001b[39m,\u001b[38;5;241m2\u001b[39m:\u001b[38;5;241m1\u001b[39m,\u001b[38;5;241m0\u001b[39m:\u001b[38;5;241m0\u001b[39m}\n\u001b[0;32m      4\u001b[0m \u001b[38;5;28mprint\u001b[39m(\u001b[38;5;124m\"\u001b[39m\u001b[38;5;124morignal dictionary:\u001b[39m\u001b[38;5;124m\"\u001b[39m,d)\n\u001b[1;32m----> 5\u001b[0m sorted_d\u001b[38;5;241m=\u001b[39m\u001b[38;5;28msorted\u001b[39m(d\u001b[38;5;241m.\u001b[39mitems(),key\u001b[38;5;241m=\u001b[39m\u001b[43moperator\u001b[49m\u001b[38;5;241m.\u001b[39mintemgetter(\u001b[38;5;241m1\u001b[39m))\n\u001b[0;32m      6\u001b[0m \u001b[38;5;28mprint\u001b[39m(\u001b[38;5;124m'\u001b[39m\u001b[38;5;124mdictionaryin ascending order by value:\u001b[39m\u001b[38;5;124m'\u001b[39m,sorted_d)\n\u001b[0;32m      7\u001b[0m sorted_d\u001b[38;5;241m=\u001b[39m\u001b[38;5;28mdict\u001b[39m(\u001b[38;5;28msorted\u001b[39m(d\u001b[38;5;241m.\u001b[39mitem(),key\u001b[38;5;241m=\u001b[39moperator\u001b[38;5;241m.\u001b[39mitemgetter(\u001b[38;5;241m1\u001b[39m),reverse\u001b[38;5;241m=\u001b[39mtrue))\n",
      "\u001b[1;31mNameError\u001b[0m: name 'operator' is not defined"
     ]
    }
   ],
   "source": [
    "#Q.13\n",
    "\n",
    "d={1:2,3:4,4:3,2:1,0:0}\n",
    "print(\"orignal dictionary:\",d)\n",
    "sorted_d=sorted(d.items(),key=operator.intemgetter(1))\n",
    "print('dictionaryin ascending order by value:',sorted_d)\n",
    "sorted_d=dict(sorted(d.item(),key=operator.itemgetter(1),reverse=true))\n",
    "print('dictionary in descending order by value:',sorted_d)"
   ]
  },
  {
   "cell_type": "code",
   "execution_count": 4,
   "id": "9bb0836a",
   "metadata": {},
   "outputs": [
    {
     "ename": "SyntaxError",
     "evalue": "invalid syntax (170720432.py, line 4)",
     "output_type": "error",
     "traceback": [
      "\u001b[1;36m  Cell \u001b[1;32mIn[4], line 4\u001b[1;36m\u001b[0m\n\u001b[1;33m    k=counter{my_dict}\u001b[0m\n\u001b[1;37m             ^\u001b[0m\n\u001b[1;31mSyntaxError\u001b[0m\u001b[1;31m:\u001b[0m invalid syntax\n"
     ]
    }
   ],
   "source": [
    "#Q.14\n",
    "\n",
    "my_dict={'a':67,'b':23,'c':45,'d':56}\n",
    "k=counter{my_dict}\n",
    "high=k,most_common(3)\n",
    "print(\"inital dictionary:\")\n",
    "print(my_dict,\"\\n\")\n",
    "print(\"dictionary with 3 highest value:\")\n",
    "print(\"key value\")\n",
    "for i in high:\n",
    "    print(i[0],\" :\",[1],\" \")"
   ]
  },
  {
   "cell_type": "code",
   "execution_count": null,
   "id": "108a3d96",
   "metadata": {},
   "outputs": [],
   "source": [
    "#Q15 \n",
    "\n",
    "nterm=int(input(\"how many terma?\"))\n",
    "\n",
    "n1,n2=0,1\n",
    "count=0\n",
    "if nterm<=0:\n",
    "    print(\"pklease enter a positive integer\")\n",
    "elif nterm ==1:\n",
    "    print (\"fibonacci sequence upto\",nterm,\":\")\n",
    "    print(n1)\n",
    "else:\n",
    "    print(\"fibonacci sequence:\")\n",
    "    while count < nterms:\n",
    "        print(n1)\n",
    "        nth=n1+n2\n",
    "        n1=n2\n",
    "        n2=nth\n",
    "        count+=1"
   ]
  },
  {
   "cell_type": "code",
   "execution_count": 8,
   "id": "b2f39954",
   "metadata": {},
   "outputs": [
    {
     "name": "stdout",
     "output_type": "stream",
     "text": [
      " 1 :  5\n",
      " 5 :  2\n",
      " 3 :  3\n",
      " 4 :  3\n",
      " 2 :  4\n"
     ]
    }
   ],
   "source": [
    "#Q16 counting frequency in list using python dictoinary \n",
    " \n",
    "def CountFrequency(my_list):\n",
    " \n",
    "    freq = {}\n",
    "    for item in my_list:\n",
    "        if (item in freq):\n",
    "            freq[item] += 1\n",
    "        else:\n",
    "            freq[item] = 1\n",
    " \n",
    "    for key, value in freq.items():\n",
    "        print (\"% d : % d\"%(key, value))\n",
    " \n",
    "\n",
    "if __name__ == \"__main__\":\n",
    "    my_list =[1, 1, 1, 5, 5, 3, 1, 3, 3, 1, 4, 4, 4, 2, 2, 2, 2]\n",
    " \n",
    "    CountFrequency(my_list)"
   ]
  },
  {
   "cell_type": "code",
   "execution_count": 1,
   "id": "a1f5bfb3",
   "metadata": {},
   "outputs": [
    {
     "name": "stdout",
     "output_type": "stream",
     "text": [
      "The factorial of 7 is 5040\n"
     ]
    }
   ],
   "source": [
    "#Q18 Factorial of a number using recursion\n",
    "\n",
    "def recur_factorial(n):\n",
    "   if n == 1:\n",
    "       return n\n",
    "   else:\n",
    "       return n*recur_factorial(n-1)\n",
    "\n",
    "num = 7\n",
    "\n",
    "# check if the number is negative\n",
    "if num < 0:\n",
    "   print(\"Sorry, factorial does not exist for negative numbers\")\n",
    "elif num == 0:\n",
    "   print(\"The factorial of 0 is 1\")\n",
    "else:\n",
    "   print(\"The factorial of\", num, \"is\", recur_factorial(num))\n"
   ]
  },
  {
   "cell_type": "code",
   "execution_count": 3,
   "id": "62ffcdc2",
   "metadata": {},
   "outputs": [
    {
     "name": "stdout",
     "output_type": "stream",
     "text": [
      "[1, 2, 3, 4, 5]\n"
     ]
    }
   ],
   "source": [
    "#Q19 python function that takes a list and returns a new list with unique elements of the list.\n",
    "\n",
    "def unique_list(l):\n",
    "  x = []\n",
    "  for a in l:\n",
    "    if a not in x:\n",
    "      x.append(a)\n",
    "  return x\n",
    "\n",
    "print(unique_list([1,2,3,3,3,3,4,5])) \n"
   ]
  },
  {
   "cell_type": "code",
   "execution_count": 3,
   "id": "c7778d4e",
   "metadata": {},
   "outputs": [
    {
     "ename": "IndentationError",
     "evalue": "unexpected indent (4084706296.py, line 5)",
     "output_type": "error",
     "traceback": [
      "\u001b[1;36m  Cell \u001b[1;32mIn[3], line 5\u001b[1;36m\u001b[0m\n\u001b[1;33m    for number in range (1,maximum+1):\u001b[0m\n\u001b[1;37m    ^\u001b[0m\n\u001b[1;31mIndentationError\u001b[0m\u001b[1;31m:\u001b[0m unexpected indent\n"
     ]
    }
   ],
   "source": [
    "#Q.17\n",
    "\n",
    "maximum = int(input(\"please entrer the maximum value:\"))\n",
    "oddtotal = 0\n",
    " for number in range (1,maximum+1):\n",
    "        if(number % 2 !=0):\n",
    "            print(:?\"{0}\".format(number))\n",
    "            oddtotal=oddtotal + number\n",
    "            \n",
    "print(\"the sum of odd numbers from 1 to{0})={1}\".format(number,oddtotal))"
   ]
  },
  {
   "cell_type": "code",
   "execution_count": null,
   "id": "36c2974b",
   "metadata": {},
   "outputs": [],
   "source": []
  }
 ],
 "metadata": {
  "kernelspec": {
   "display_name": "Python 3 (ipykernel)",
   "language": "python",
   "name": "python3"
  },
  "language_info": {
   "codemirror_mode": {
    "name": "ipython",
    "version": 3
   },
   "file_extension": ".py",
   "mimetype": "text/x-python",
   "name": "python",
   "nbconvert_exporter": "python",
   "pygments_lexer": "ipython3",
   "version": "3.10.10"
  }
 },
 "nbformat": 4,
 "nbformat_minor": 5
}
